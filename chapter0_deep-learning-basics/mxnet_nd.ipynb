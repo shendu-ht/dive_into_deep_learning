{
 "cells": [
  {
   "cell_type": "code",
   "metadata": {
    "collapsed": true,
    "pycharm": {
     "name": "#%%\n"
    }
   },
   "source": [
    "import numpy as np\n",
    "from mxnet import nd\n"
   ],
   "execution_count": 55,
   "outputs": []
  },
  {
   "cell_type": "markdown",
   "source": [
    "# MXNet数据操作\n",
    "\n",
    "在mxnet中，NDArray是存储和处理数据的主要工具，与numpy功能类似。\n",
    "\n",
    "\n",
    "打印NDArray数据时，会返回\"@cpu(0)\"，它表示数组被创建在CPU使用的内存上，0则没有特别的含义，未指定特定的核。\n",
    "\n",
    "\n",
    "### 1. 创建NDArray"
   ],
   "metadata": {
    "collapsed": false
   }
  },
  {
   "cell_type": "code",
   "execution_count": 56,
   "outputs": [
    {
     "name": "stdout",
     "output_type": "stream",
     "text": [
      "\n",
      "[ 0.  1.  2.  3.  4.  5.  6.  7.  8.  9. 10. 11.]\n",
      "<NDArray 12 @cpu(0)>\n"
     ]
    }
   ],
   "source": [
    "# 使用NDArray创建行向量\n",
    "\n",
    "x = nd.arange(12)\n",
    "print(x)"
   ],
   "metadata": {
    "collapsed": false,
    "pycharm": {
     "name": "#%%\n"
    }
   }
  },
  {
   "cell_type": "code",
   "execution_count": 57,
   "outputs": [
    {
     "name": "stdout",
     "output_type": "stream",
     "text": [
      "(12,)\n",
      "12\n"
     ]
    }
   ],
   "source": [
    "# 通过shape来获取NDArray的形状，通过size来获取NDArray中元素的总数\n",
    "\n",
    "shape = x.shape\n",
    "print(shape)\n",
    "\n",
    "size = x.size\n",
    "print(size)"
   ],
   "metadata": {
    "collapsed": false,
    "pycharm": {
     "name": "#%%\n"
    }
   }
  },
  {
   "cell_type": "code",
   "execution_count": 58,
   "outputs": [
    {
     "name": "stdout",
     "output_type": "stream",
     "text": [
      "\n",
      "[[ 0.  1.  2.  3.]\n",
      " [ 4.  5.  6.  7.]\n",
      " [ 8.  9. 10. 11.]]\n",
      "<NDArray 3x4 @cpu(0)>\n",
      "\n",
      "[[ 0.  1.  2.  3.]\n",
      " [ 4.  5.  6.  7.]\n",
      " [ 8.  9. 10. 11.]]\n",
      "<NDArray 3x4 @cpu(0)>\n",
      "\n",
      "[[ 0.  1.  2.  3.]\n",
      " [ 4.  5.  6.  7.]\n",
      " [ 8.  9. 10. 11.]]\n",
      "<NDArray 3x4 @cpu(0)>\n",
      "\n",
      "[[0. 1.]\n",
      " [2. 3.]\n",
      " [4. 5.]\n",
      " [6. 7.]\n",
      " [8. 9.]]\n",
      "<NDArray 5x2 @cpu(0)>\n",
      "\n",
      "[[0. 1. 2. 3. 4.]\n",
      " [5. 6. 7. 8. 9.]]\n",
      "<NDArray 2x5 @cpu(0)>\n"
     ]
    }
   ],
   "source": [
    "# 通过reshape改变NDArray的形状\n",
    "\n",
    "X = x.reshape((3, 4))\n",
    "print(X)\n",
    "\n",
    "X = x.reshape((3, -1))\n",
    "print(X)\n",
    "\n",
    "X = x.reshape((-1, 4))\n",
    "print(X)\n",
    "\n",
    "print(x.reshape((5, -1)))\n",
    "print(x.reshape((-1, 5)))\n"
   ],
   "metadata": {
    "collapsed": false,
    "pycharm": {
     "name": "#%%\n"
    }
   }
  },
  {
   "cell_type": "code",
   "execution_count": 59,
   "outputs": [
    {
     "name": "stdout",
     "output_type": "stream",
     "text": [
      "\n",
      "[[[0. 0. 0. 0.]\n",
      "  [0. 0. 0. 0.]\n",
      "  [0. 0. 0. 0.]]\n",
      "\n",
      " [[0. 0. 0. 0.]\n",
      "  [0. 0. 0. 0.]\n",
      "  [0. 0. 0. 0.]]]\n",
      "<NDArray 2x3x4 @cpu(0)>\n",
      "\n",
      "[[1. 1. 1. 1.]\n",
      " [1. 1. 1. 1.]\n",
      " [1. 1. 1. 1.]]\n",
      "<NDArray 3x4 @cpu(0)>\n",
      "\n",
      "[[ 1.6403017  -1.2138013   2.3999705  -0.38509107]\n",
      " [-0.98780406  0.9585889  -1.4976466   0.6605163 ]\n",
      " [-0.18903568 -0.27302608  0.91815436  2.173063  ]]\n",
      "<NDArray 3x4 @cpu(0)>\n"
     ]
    }
   ],
   "source": [
    "# 使用zeros、ones、random来创建指定形状，且元素全为0、1、随机数的矩阵\n",
    "\n",
    "zeros = nd.zeros((2, 3, 4))\n",
    "print(zeros)\n",
    "\n",
    "ones = nd.ones((3, 4))\n",
    "print(ones)\n",
    "\n",
    "randoms = nd.random.normal(0, 1, shape=(3, 4))\n",
    "print(randoms)\n"
   ],
   "metadata": {
    "collapsed": false,
    "pycharm": {
     "name": "#%%\n"
    }
   }
  },
  {
   "cell_type": "code",
   "execution_count": 60,
   "outputs": [
    {
     "name": "stdout",
     "output_type": "stream",
     "text": [
      "[0, 1, 2, 3, 4, 5, 6, 7, 8, 9, 10, 11]\n",
      "\n",
      "[ 0.  1.  2.  3.  4.  5.  6.  7.  8.  9. 10. 11.]\n",
      "<NDArray 12 @cpu(0)>\n",
      "[ 0  1  2  3  4  5  6  7  8  9 10 11]\n",
      "[ 0.  1.  2.  3.  4.  5.  6.  7.  8.  9. 10. 11.]\n",
      "\n",
      "[ 0.  1.  2.  3.  4.  5.  6.  7.  8.  9. 10. 11.]\n",
      "<NDArray 12 @cpu(0)>\n",
      "[0.0, 1.0, 2.0, 3.0, 4.0, 5.0, 6.0, 7.0, 8.0, 9.0, 10.0, 11.0]\n",
      "[0, 1, 2, 3, 4, 5, 6, 7, 8, 9, 10, 11] [0, 1, 2, 3, 4, 5, 6, 7, 8, 9, 10, 11]\n"
     ]
    }
   ],
   "source": [
    "# list、NDArray、numpy的相互转换\n",
    "\n",
    "\n",
    "# list -> NDArray, numpy\n",
    "\n",
    "l1 = list(range(12))\n",
    "print(l1)\n",
    "nd1 = nd.array(l1)\n",
    "print(nd1)\n",
    "np1 = np.array(l1)\n",
    "print(np1)\n",
    "\n",
    "\n",
    "\n",
    "# NDArray -> numpy & numpy -> NDArray\n",
    "\n",
    "np2 = nd1.asnumpy()\n",
    "print(np2)\n",
    "nd2 = nd.array(np1)\n",
    "print(nd2)\n",
    "\n",
    "\n",
    "# NDArray, numpy -> list。NDArray无法直接转换为list，需要先转为numpy，再转成list\n",
    "\n",
    "print(nd1.asnumpy().tolist())\n",
    "print(list(np1), np1.tolist())\n",
    "\n"
   ],
   "metadata": {
    "collapsed": false,
    "pycharm": {
     "name": "#%%\n"
    }
   }
  },
  {
   "cell_type": "markdown",
   "source": [
    "### 2. NDArray运算"
   ],
   "metadata": {
    "collapsed": false
   }
  },
  {
   "cell_type": "code",
   "execution_count": 70,
   "outputs": [
    {
     "name": "stdout",
     "output_type": "stream",
     "text": [
      "\n",
      "[[1. 0. 1. 1.]\n",
      " [1. 1. 0. 1.]\n",
      " [1. 1. 0. 0.]]\n",
      "<NDArray 3x4 @cpu(0)>\n",
      "\n",
      "[[2. 2. 2. 1.]\n",
      " [1. 1. 1. 2.]\n",
      " [1. 1. 2. 1.]]\n",
      "<NDArray 3x4 @cpu(0)>\n",
      "\n",
      "[[3. 2. 3. 2.]\n",
      " [2. 2. 1. 3.]\n",
      " [2. 2. 2. 1.]]\n",
      "<NDArray 3x4 @cpu(0)>\n",
      "\n",
      "[[2. 0. 2. 1.]\n",
      " [1. 1. 0. 2.]\n",
      " [1. 1. 0. 0.]]\n",
      "<NDArray 3x4 @cpu(0)>\n",
      "\n",
      "[[4. 4. 5. 4.]\n",
      " [2. 2. 3. 3.]\n",
      " [2. 2. 2. 1.]\n",
      " [3. 3. 3. 3.]]\n",
      "<NDArray 4x4 @cpu(0)>\n",
      "\n",
      "[[5. 4. 4.]\n",
      " [5. 4. 3.]\n",
      " [4. 2. 2.]]\n",
      "<NDArray 3x3 @cpu(0)>\n",
      "\n",
      "[8.]\n",
      "<NDArray 1 @cpu(0)> 8.0\n"
     ]
    }
   ],
   "source": [
    "# 生成两个随机矩阵X和Y，astype将矩阵元素转换为float格式，因为dot运算只支持float格式数据\n",
    "\n",
    "X = nd.random.randint(0, 2, shape=(3, 4)).astype(float)\n",
    "print(X)\n",
    "Y = nd.random.randint(1, 3, shape=(3, 4)).astype(float)\n",
    "print(Y)\n",
    "\n",
    "# 加法\n",
    "print(X + Y)\n",
    "\n",
    "# 乘法\n",
    "print(X * Y)\n",
    "\n",
    "# 使用dot做矩阵乘法\n",
    "print(nd.dot(X.T, Y))\n",
    "print(nd.dot(X, Y.T))\n"
   ],
   "metadata": {
    "collapsed": false,
    "pycharm": {
     "name": "#%%\n"
    }
   }
  },
  {
   "cell_type": "code",
   "execution_count": 73,
   "outputs": [
    {
     "name": "stdout",
     "output_type": "stream",
     "text": [
      "\n",
      "[[0. 0. 0. 1.]\n",
      " [1. 1. 0. 0.]\n",
      " [1. 1. 0. 0.]]\n",
      "<NDArray 3x4 @cpu(0)>\n",
      "\n",
      "[8.]\n",
      "<NDArray 1 @cpu(0)> 8.0\n"
     ]
    }
   ],
   "source": [
    "# 判断矩阵元素是否相等\n",
    "print(X == Y)\n",
    "\n",
    "# 对矩阵元素求和，求和得到的依旧是NDArray格式，使用asscalar转换为float格式\n",
    "print(X.sum(), X.sum().asscalar())\n"
   ],
   "metadata": {
    "collapsed": false,
    "pycharm": {
     "name": "#%%\n"
    }
   }
  },
  {
   "cell_type": "code",
   "execution_count": 71,
   "outputs": [
    {
     "name": "stdout",
     "output_type": "stream",
     "text": [
      "\n",
      "[[2.71828183 1.         2.71828183 2.71828183]\n",
      " [2.71828183 2.71828183 1.         2.71828183]\n",
      " [2.71828183 2.71828183 1.         1.        ]]\n",
      "<NDArray 3x4 @cpu(0)>\n",
      "\n",
      "[[1.41421356 1.41421356 1.41421356 1.        ]\n",
      " [1.         1.         1.         1.41421356]\n",
      " [1.         1.         1.41421356 1.        ]]\n",
      "<NDArray 3x4 @cpu(0)>\n",
      "\n",
      "[[0.69314718 0.69314718 0.69314718 0.        ]\n",
      " [0.         0.         0.         0.69314718]\n",
      " [0.         0.         0.69314718 0.        ]]\n",
      "<NDArray 3x4 @cpu(0)>\n"
     ]
    }
   ],
   "source": [
    "# 对矩阵做指数运算，也可改写为nd.exp(X)\n",
    "print(X.exp())\n",
    "\n",
    "# 对矩阵做sqrt计算，也可改写为nd.sqrt(X)\n",
    "print(Y.sqrt())\n",
    "\n",
    "# 对矩阵做log计算，也可改写为nd.log(X)\n",
    "print(Y.log())\n"
   ],
   "metadata": {
    "collapsed": false,
    "pycharm": {
     "name": "#%%\n"
    }
   }
  },
  {
   "cell_type": "code",
   "execution_count": 72,
   "outputs": [
    {
     "name": "stdout",
     "output_type": "stream",
     "text": [
      "\n",
      "[[1. 0. 1. 1.]\n",
      " [1. 1. 0. 1.]\n",
      " [1. 1. 0. 0.]\n",
      " [2. 2. 2. 1.]\n",
      " [1. 1. 1. 2.]\n",
      " [1. 1. 2. 1.]]\n",
      "<NDArray 6x4 @cpu(0)>\n",
      "\n",
      "[[1. 0. 1. 1. 2. 2. 2. 1.]\n",
      " [1. 1. 0. 1. 1. 1. 1. 2.]\n",
      " [1. 1. 0. 0. 1. 1. 2. 1.]]\n",
      "<NDArray 3x8 @cpu(0)>\n"
     ]
    }
   ],
   "source": [
    "# 将两个矩阵联结（concatenate）到一个矩阵，dim=0在行上添加，dim=1在列上添加\n",
    "\n",
    "new_nd1 = nd.concat(X, Y, dim=0)\n",
    "print(new_nd1)\n",
    "\n",
    "new_nd2 = nd.concat(X, Y, dim=1)\n",
    "print(new_nd2)\n"
   ],
   "metadata": {
    "collapsed": false,
    "pycharm": {
     "name": "#%%\n"
    }
   }
  },
  {
   "cell_type": "markdown",
   "source": [
    "### 3. NDArray广播与索引\n"
   ],
   "metadata": {
    "collapsed": false
   }
  },
  {
   "cell_type": "code",
   "execution_count": 78,
   "outputs": [
    {
     "name": "stdout",
     "output_type": "stream",
     "text": [
      "\n",
      "[[0]\n",
      " [0]\n",
      " [1]]\n",
      "<NDArray 3x1 @cpu(0)>\n",
      "\n",
      "[[2 1]]\n",
      "<NDArray 1x2 @cpu(0)>\n",
      "\n",
      "[[2 1]\n",
      " [2 1]\n",
      " [3 2]]\n",
      "<NDArray 3x2 @cpu(0)>\n",
      "\n",
      "[[0 0]\n",
      " [0 0]\n",
      " [2 1]]\n",
      "<NDArray 3x2 @cpu(0)>\n"
     ]
    }
   ],
   "source": [
    "# 广播\n",
    "\n",
    "# 随机生成不同shape的X和Y，X为M行1列，Y为1行N列\n",
    "m, n = 3, 2\n",
    "X = nd.random.randint(0, 2, shape=(m, 1))\n",
    "print(X)\n",
    "Y = nd.random.randint(1, 3 ,shape=(1, n))\n",
    "print(Y)\n",
    "\n",
    "# X和Y的运算，会进行广播\n",
    "print(X + Y)\n",
    "print(X * Y)\n"
   ],
   "metadata": {
    "collapsed": false,
    "pycharm": {
     "name": "#%%\n"
    }
   }
  },
  {
   "cell_type": "code",
   "execution_count": 81,
   "outputs": [
    {
     "name": "stdout",
     "output_type": "stream",
     "text": [
      "\n",
      "[[0 1 1 0]\n",
      " [1 0 1 1]\n",
      " [1 1 0 0]]\n",
      "<NDArray 3x4 @cpu(0)>\n",
      "\n",
      "[1 0 1 1]\n",
      "<NDArray 4 @cpu(0)>\n",
      "\n",
      "[1 0 1]\n",
      "<NDArray 3 @cpu(0)>\n",
      "\n",
      "[0]\n",
      "<NDArray 1 @cpu(0)>\n"
     ]
    }
   ],
   "source": [
    "# NDArray索引\n",
    "\n",
    "X = nd.random.randint(0, 2, shape=(3, 4))\n",
    "print(X)\n",
    "\n",
    "# 行索引\n",
    "print(X[1])\n",
    "\n",
    "# 列索引\n",
    "print(X[:, 1])\n",
    "\n",
    "# 元素索引\n",
    "print(X[1, 1])"
   ],
   "metadata": {
    "collapsed": false,
    "pycharm": {
     "name": "#%%\n"
    }
   }
  }
 ],
 "metadata": {
  "kernelspec": {
   "display_name": "Python 3",
   "language": "python",
   "name": "python3"
  },
  "language_info": {
   "codemirror_mode": {
    "name": "ipython",
    "version": 2
   },
   "file_extension": ".py",
   "mimetype": "text/x-python",
   "name": "python",
   "nbconvert_exporter": "python",
   "pygments_lexer": "ipython2",
   "version": "2.7.6"
  }
 },
 "nbformat": 4,
 "nbformat_minor": 0
}