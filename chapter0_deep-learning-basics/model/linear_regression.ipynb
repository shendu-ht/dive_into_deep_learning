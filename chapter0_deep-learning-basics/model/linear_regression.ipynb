{
 "cells": [
  {
   "cell_type": "code",
   "execution_count": null,
   "metadata": {
    "collapsed": true
   },
   "outputs": [],
   "source": []
  },
  {
   "cell_type": "markdown",
   "source": [
    "# linear regression\n",
    "\n",
    "线性回归输出是一个连续值，因此适用于如预测房屋价格、气温、销售额等连续值的回归问题。\n",
    "\n",
    "与回归问题不同，在图像分类、垃圾邮件识别、疾病检测等输出为离散值的分类问题中，模型的最终输出是一个离散值，softmax回归则适用于分类问题。\n",
    "\n",
    "\n",
    "## 1. 线性回归的基本要素\n",
    "\n",
    "### 1.1 模型\n",
    "\n",
    "啊\n",
    "\n",
    "## 2 线性回归的表示方法\n",
    "\n",
    "\n",
    "\n"
   ],
   "metadata": {
    "collapsed": false
   }
  }
 ],
 "metadata": {
  "kernelspec": {
   "display_name": "Python 3",
   "language": "python",
   "name": "python3"
  },
  "language_info": {
   "codemirror_mode": {
    "name": "ipython",
    "version": 2
   },
   "file_extension": ".py",
   "mimetype": "text/x-python",
   "name": "python",
   "nbconvert_exporter": "python",
   "pygments_lexer": "ipython2",
   "version": "2.7.6"
  }
 },
 "nbformat": 4,
 "nbformat_minor": 0
}